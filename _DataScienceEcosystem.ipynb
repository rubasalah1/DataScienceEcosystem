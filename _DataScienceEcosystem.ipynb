{
 "cells": [
  {
   "cell_type": "markdown",
   "id": "e6700377-e289-42d7-9f8d-908386258d86",
   "metadata": {},
   "source": [
    "# Data Science Tools and Ecosystem"
   ]
  },
  {
   "cell_type": "markdown",
   "id": "9e7b237f-4403-444a-97e5-3bf329cdc941",
   "metadata": {},
   "source": [
    "In this notebook, Data Science Tools and Ecosystem are summarized"
   ]
  },
  {
   "cell_type": "markdown",
   "id": "7c4d5fb6-f771-4d29-96c3-afac8ddd8f4c",
   "metadata": {},
   "source": [
    "**Objectives:**\n",
    "* R\n",
    "* Java\n",
    "* Python"
   ]
  },
  {
   "cell_type": "markdown",
   "id": "abd7566b-db21-4a05-b695-246198770d82",
   "metadata": {},
   "source": [
    "Some of the popular languages that Data Scientists use are:\n",
    "<ol> \n",
    "    <li> Python. \n",
    "    <li> R. \n",
    "    <li> Java.\n",
    "<ol> "
   ]
  },
  {
   "cell_type": "markdown",
   "id": "b4a3071d-0d91-4876-9f4c-0b63808f71b1",
   "metadata": {
    "tags": []
   },
   "source": [
    "Some of the commonly used libraries used by Data Scientists include:\n",
    "<ol>\n",
    "    <li> TensorFlow.\n",
    "    <li> NumPy.\n",
    "    <li> Pandas.\n",
    "<ol>"
   ]
  },
  {
   "cell_type": "markdown",
   "id": "5e96b3e4-a122-4329-84f5-92b3a1e32644",
   "metadata": {
    "tags": []
   },
   "source": [
    "|Data Science Tools|\n",
    "|------------------|\n",
    "|RStudio|\n",
    "|Apache Spark|\n",
    "|TensorFlow|\n"
   ]
  },
  {
   "cell_type": "markdown",
   "id": "7358c3af-adc2-478c-a616-49c7a598926f",
   "metadata": {},
   "source": [
    "### Below are a few examples of evaluating arithmetic expressions in Python\n"
   ]
  },
  {
   "cell_type": "code",
   "execution_count": 1,
   "id": "3562282b-87c5-4e3a-83a4-39a1fb7298f0",
   "metadata": {
    "tags": []
   },
   "outputs": [
    {
     "data": {
      "text/plain": [
       "17"
      ]
     },
     "execution_count": 1,
     "metadata": {},
     "output_type": "execute_result"
    }
   ],
   "source": [
    "#This a simple arithmetic expression to mutiply then add integers\n",
    "(3*4)+5"
   ]
  },
  {
   "cell_type": "code",
   "execution_count": 2,
   "id": "abc5c79c-f7f5-4824-ad49-e430576b60b6",
   "metadata": {
    "tags": []
   },
   "outputs": [
    {
     "data": {
      "text/plain": [
       "3.3333333333333335"
      ]
     },
     "execution_count": 2,
     "metadata": {},
     "output_type": "execute_result"
    }
   ],
   "source": [
    "#This will convert 200 minutes to hours by diving by 60.\n",
    "(200/60)"
   ]
  },
  {
   "cell_type": "code",
   "execution_count": null,
   "id": "8da855c0-71fa-4c21-a8bf-97973f76cd49",
   "metadata": {},
   "outputs": [],
   "source": [
    "## Author \n"
   ]
  }
 ],
 "metadata": {
  "kernelspec": {
   "display_name": "Python",
   "language": "python",
   "name": "conda-env-python-py"
  },
  "language_info": {
   "codemirror_mode": {
    "name": "ipython",
    "version": 3
   },
   "file_extension": ".py",
   "mimetype": "text/x-python",
   "name": "python",
   "nbconvert_exporter": "python",
   "pygments_lexer": "ipython3",
   "version": "3.7.12"
  }
 },
 "nbformat": 4,
 "nbformat_minor": 5
}
